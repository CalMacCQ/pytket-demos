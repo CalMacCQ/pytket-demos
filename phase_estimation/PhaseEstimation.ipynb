{
 "cells": [
  {
   "cell_type": "code",
   "execution_count": 26,
   "id": "6f5b548d",
   "metadata": {},
   "outputs": [],
   "source": [
    "#Pytket imports\n",
    "from pytket import Circuit, OpType\n",
    "from pytket.circuit import CircBox\n",
    "from pytket.utils import compare_unitaries\n",
    "\n",
    "#My imports\n",
    "from qft_setup import build_inverse_qft\n",
    "from utils_checks import qft_unitary_dag\n"
   ]
  },
  {
   "cell_type": "code",
   "execution_count": 3,
   "id": "9d501d2b",
   "metadata": {},
   "outputs": [],
   "source": [
    "anc_qubits=5 # How many qubits are we going to use to estimate the phase?\n",
    "phase_input=4/5 # Our phase we want to estimate\n",
    "\n",
    "shots=1000 # How many shots in our experiment?"
   ]
  },
  {
   "cell_type": "code",
   "execution_count": 4,
   "id": "835ad307",
   "metadata": {},
   "outputs": [
    {
     "data": {
      "text/plain": [
       "True"
      ]
     },
     "execution_count": 4,
     "metadata": {},
     "output_type": "execute_result"
    }
   ],
   "source": [
    "# Check that inverse QFT is implemented correctly\n",
    "compare_unitaries(build_inverse_qft(3).get_unitary(), qft_unitary_dag(3)) "
   ]
  },
  {
   "cell_type": "code",
   "execution_count": 5,
   "id": "547f2afd",
   "metadata": {},
   "outputs": [],
   "source": [
    "inv_qft_box = CircBox(build_inverse_qft(anc_qubits))"
   ]
  },
  {
   "cell_type": "code",
   "execution_count": 6,
   "id": "819ec436",
   "metadata": {},
   "outputs": [],
   "source": [
    "def build_phase_est_circ(n_ancillas,test_phase, state = Circuit(1)):#here state= Circuit(1) for sq gates\n",
    "    \"\"\"Constructs a phase estimation circuit to estimate the phase applied on\n",
    "    qubit n+1 using n qubits\"\"\"\n",
    "    \n",
    "    phase_circ = Circuit(n_ancillas+len(state.qubits),n_ancillas)\n",
    "    \n",
    "    phase_circ.X(n_ancillas)\n",
    "    \n",
    "    for j in range(n_ancillas):\n",
    "        phase_circ.H(j)\n",
    "        \n",
    "    for k in range(n_ancillas):\n",
    "        for l in range(2**k):\n",
    "            phase_circ.add_gate(OpType.CU1,test_phase,[n_ancillas - 1 - k, n_ancillas])\n",
    "                                 \n",
    "    # Append inverse qft as gates\n",
    "    #phase_circ.append(build_inverse_qft(n_ancillas)) \n",
    "    \n",
    "     # Append inverse qft as a box\n",
    "    phase_circ.add_circbox(inv_qft_box, [x for x in range(n_ancillas)] ,opgroup = \"Inverse QFT\")\n",
    "    \n",
    "    \n",
    "    for m in range(n_ancillas):\n",
    "        phase_circ.Measure(m,m)\n",
    "        \n",
    "    return phase_circ\n"
   ]
  },
  {
   "cell_type": "code",
   "execution_count": 7,
   "id": "faf2fdd5",
   "metadata": {},
   "outputs": [],
   "source": [
    "from pytket.circuit.display import render_circuit_jupyter\n",
    "\n",
    "est_phase = build_phase_est_circ(anc_qubits , phase_input)\n",
    "\n",
    "\n",
    "#render_circuit_jupyter(est_phase) # draw our phase estimation circuit"
   ]
  },
  {
   "cell_type": "code",
   "execution_count": 8,
   "id": "1ffb09a7",
   "metadata": {},
   "outputs": [
    {
     "data": {
      "text/plain": [
       "True"
      ]
     },
     "execution_count": 8,
     "metadata": {},
     "output_type": "execute_result"
    }
   ],
   "source": [
    "from pytket.passes import DecomposeBoxes\n",
    "DecomposeBoxes().apply(est_phase) # Decompose the inverse QFT Box structure\n",
    "\n",
    "#render_circuit_jupyter(est_phase)"
   ]
  },
  {
   "cell_type": "code",
   "execution_count": 22,
   "id": "1fab92ed",
   "metadata": {},
   "outputs": [
    {
     "name": "stdout",
     "output_type": "stream",
     "text": [
      "Number of gates in Circuit:  245\n",
      "Number of CX gates in Circuit:  118\n"
     ]
    }
   ],
   "source": [
    "from pytket.extensions.qiskit import IBMQEmulatorBackend\n",
    "\n",
    "guadalupe_backend = IBMQEmulatorBackend('ibmq_guadalupe', hub ='partner-cqc', group ='internal', project ='default')\n",
    "compiled_circ = guadalupe_backend.get_compiled_circuit(est_phase)\n",
    "\n",
    "#render_circuit_jupyter(compiled_circ)\n",
    "print(\"Number of gates in Circuit: \", compiled_circ.n_gates)\n",
    "print(\"Number of CX gates in Circuit: \", compiled_circ.n_gates_of_type(OpType.CX))"
   ]
  },
  {
   "cell_type": "code",
   "execution_count": 23,
   "id": "6e3874cd",
   "metadata": {},
   "outputs": [],
   "source": [
    "handle = guadalupe_backend.process_circuit(compiled_circ, shots)\n",
    "my_result = guadalupe_backend.get_result(handle)\n",
    "#my_result.get_counts() "
   ]
  },
  {
   "cell_type": "code",
   "execution_count": 11,
   "id": "a823e5b9",
   "metadata": {},
   "outputs": [
    {
     "data": {
      "image/png": "[encoded data removed]",
      "text/plain": [
       "<Figure size 432x288 with 1 Axes>"
      ]
     },
     "metadata": {
      "needs_background": "light"
     },
     "output_type": "display_data"
    }
   ],
   "source": [
    "from plotting import plot_results\n",
    "\n",
    "rank_number = 7 # Choose the number of basis states to include in the plot. For n_qubits there could be 2**n\n",
    "\n",
    "plot_results(my_result, rank = rank_number, title = 'Phase Estimation results (Before circuit optimisation)')"
   ]
  },
  {
   "cell_type": "code",
   "execution_count": 12,
   "id": "029ada68",
   "metadata": {},
   "outputs": [],
   "source": [
    "from pytket.passes import (\n",
    "    SequencePass,\n",
    "    RebaseCustom,\n",
    "    CXMappingPass,\n",
    "    FullPeepholeOptimise,\n",
    "    RemoveRedundancies,\n",
    ")\n",
    "\n",
    "from pytket.placement import NoiseAwarePlacement\n",
    "\n",
    "guadalupe_info = guadalupe_backend.backend_info\n",
    "guadalupe_placer = NoiseAwarePlacement(arc = guadalupe_info.architecture,\n",
    "                                       node_errors = guadalupe_info.averaged_node_gate_errors,\n",
    "                                       link_errors = guadalupe_info.averaged_edge_gate_errors,\n",
    "                                       readout_errors = guadalupe_info.averaged_readout_errors)\n",
    "\n",
    "\n",
    "guadalupe_mapping_pass = CXMappingPass(\n",
    "    guadalupe_info.architecture,\n",
    "    guadalupe_placer,\n",
    "    directed_cx = False\n",
    ")\n",
    "\n",
    "from pytket.passes import auto_rebase_pass\n",
    "\n",
    "ibm_rebase = auto_rebase_pass({OpType.CX, OpType.X, OpType.SX, OpType.Rz})"
   ]
  },
  {
   "cell_type": "code",
   "execution_count": 24,
   "id": "2b7b92d4",
   "metadata": {},
   "outputs": [
    {
     "name": "stdout",
     "output_type": "stream",
     "text": [
      "Number of gates in Circuit:  172\n",
      "Number of CX gates in Circuit:  60\n"
     ]
    }
   ],
   "source": [
    "sequence_pass = SequencePass([FullPeepholeOptimise(), guadalupe_mapping_pass, ibm_rebase, RemoveRedundancies()])\n",
    "sequence_pass.apply(compiled_circ)\n",
    "\n",
    "#guadalupe_backend.default_compilation_pass(2).apply(compiled_circ)\n",
    "\n",
    "print(\"Number of gates in Circuit: \", compiled_circ.n_gates)\n",
    "print(\"Number of CX gates in Circuit: \", compiled_circ.n_gates_of_type(OpType.CX))\n",
    "\n",
    "#render_circuit_jupyter(compiled_circ)"
   ]
  },
  {
   "cell_type": "code",
   "execution_count": 25,
   "id": "af8ab7ef",
   "metadata": {},
   "outputs": [],
   "source": [
    "handle = guadalupe_backend.process_circuit(compiled_circ, shots)\n",
    "my_result_opt=guadalupe_backend.get_result(handle)\n",
    "#my_result_opt.get_counts() # Display counts for optimised circuit"
   ]
  },
  {
   "cell_type": "code",
   "execution_count": 15,
   "id": "6a5af1fc",
   "metadata": {},
   "outputs": [
    {
     "data": {
      "image/png": "[encoded data removed]",
      "text/plain": [
       "<Figure size 432x288 with 1 Axes>"
      ]
     },
     "metadata": {
      "needs_background": "light"
     },
     "output_type": "display_data"
    }
   ],
   "source": [
    "plot_results(my_result_opt, rank = rank_number , title = 'Phase Estimation results (AFTER circuit optimisation)')"
   ]
  },
  {
   "cell_type": "code",
   "execution_count": 16,
   "id": "90029713",
   "metadata": {},
   "outputs": [],
   "source": [
    "# Most probable basis state result as a tuple\n",
    "max_key = max(my_result_opt.get_counts(), key = my_result_opt.get_counts().get)\n",
    "\n",
    "# Convert this tuple to a string\n",
    "def tuple_to_string2(tup): \n",
    "    \"\"\"\n",
    "    Converts a tuple to a string as follows (1,0,0) -> '100'\n",
    "    \"\"\"\n",
    "    mystring = ''\n",
    "    for entry in tup :\n",
    "        mystring += str(entry)\n",
    "        \n",
    "    return mystring\n",
    "\n",
    "highest_probability_string = tuple_to_string(max_key)\n",
    "\n",
    "decimal_output = int(highest_probability_string,2) # Convert from binary string to a decimal\n",
    "        \n",
    "phase_estimate = decimal_output/(2**anc_qubits)\n",
    "\n",
    "naive_error = round(abs(phase_estimate-phase_input/2),4)\n",
    "\n",
    "def percentage_error(error):\n",
    "    \"\"\"\n",
    "    Returns the naive error percentage bewteen the input phase and the measured phase.\n",
    "    \"\"\"\n",
    "    percentage = round( 2*error/phase_input *100, 1 ) #percentage error rounded to 1dp\n",
    "    print( \"Naive error percentage = {}%\".format(percentage))"
   ]
  },
  {
   "cell_type": "code",
   "execution_count": 17,
   "id": "21f3d02a",
   "metadata": {},
   "outputs": [
    {
     "data": {
      "text/plain": [
       "'01101'"
      ]
     },
     "execution_count": 17,
     "metadata": {},
     "output_type": "execute_result"
    }
   ],
   "source": [
    "# Our \"winning\" basis state\n",
    "highest_probability_string"
   ]
  },
  {
   "cell_type": "code",
   "execution_count": 18,
   "id": "55031d35",
   "metadata": {},
   "outputs": [
    {
     "data": {
      "text/plain": [
       "13"
      ]
     },
     "execution_count": 18,
     "metadata": {},
     "output_type": "execute_result"
    }
   ],
   "source": [
    "decimal_output # Divide this by 2**anc_qubits to get phase"
   ]
  },
  {
   "cell_type": "code",
   "execution_count": 19,
   "id": "65d214ff",
   "metadata": {},
   "outputs": [
    {
     "data": {
      "text/plain": [
       "0.40625"
      ]
     },
     "execution_count": 19,
     "metadata": {},
     "output_type": "execute_result"
    }
   ],
   "source": [
    "# This is our phase estimate... Ideally it should equal phase_input/2\n",
    "phase_estimate"
   ]
  },
  {
   "cell_type": "code",
   "execution_count": 20,
   "id": "f569e811",
   "metadata": {},
   "outputs": [
    {
     "data": {
      "text/plain": [
       "0.4"
      ]
     },
     "execution_count": 20,
     "metadata": {},
     "output_type": "execute_result"
    }
   ],
   "source": [
    "# Expected answer\n",
    "phase_input/2"
   ]
  },
  {
   "cell_type": "code",
   "execution_count": 21,
   "id": "ca7f8152",
   "metadata": {},
   "outputs": [
    {
     "data": {
      "text/plain": [
       "0.0062"
      ]
     },
     "execution_count": 21,
     "metadata": {},
     "output_type": "execute_result"
    }
   ],
   "source": [
    "naive_error # How much did we miss our expected result by? absolute value to 4dp"
   ]
  },
  {
   "cell_type": "code",
   "execution_count": 21,
   "id": "a0a6fad2",
   "metadata": {},
   "outputs": [
    {
     "name": "stdout",
     "output_type": "stream",
     "text": [
      "Naive error percentage = 1.5%\n"
     ]
    }
   ],
   "source": [
    "percentage_error(naive_error) # percentage erroe to 1dp"
   ]
  },
  {
   "cell_type": "code",
   "execution_count": null,
   "id": "a5c3ca84",
   "metadata": {},
   "outputs": [],
   "source": []
  }
 ],
 "metadata": {
  "interpreter": {
   "hash": "40d3a090f54c6569ab1632332b64b2c03c39dcf918b08424e98f38b5ae0af88f"
  },
  "kernelspec": {
   "display_name": "Python 3 (ipykernel)",
   "language": "python",
   "name": "python3"
  },
  "language_info": {
   "codemirror_mode": {
    "name": "ipython",
    "version": 3
   },
   "file_extension": ".py",
   "mimetype": "text/x-python",
   "name": "python",
   "nbconvert_exporter": "python",
   "pygments_lexer": "ipython3",
   "version": "3.8.8"
  }
 },
 "nbformat": 4,
 "nbformat_minor": 5
}
